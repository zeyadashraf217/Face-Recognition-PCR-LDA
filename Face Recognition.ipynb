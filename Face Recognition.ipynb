{
  "cells": [
    {
      "cell_type": "markdown",
      "source": [
        "Importing needed libraries"
      ],
      "metadata": {
        "id": "1FYfneXRbkBd"
      }
    },
    {
      "cell_type": "code",
      "execution_count": null,
      "metadata": {
        "id": "SKi8hUDqdtrW"
      },
      "outputs": [],
      "source": [
        "import pandas as py\n",
        "import matplotlib.pyplot as plt\n",
        "import numpy as np\n",
        "from PIL import Image\n",
        "from sklearn.preprocessing import StandardScaler\n",
        "from sklearn.neighbors import KNeighborsClassifier\n",
        "from sklearn import metrics\n",
        "import seaborn as sns\n",
        "from sklearn.discriminant_analysis import LinearDiscriminantAnalysis"
      ]
    },
    {
      "cell_type": "markdown",
      "source": [
        "Downloading the dataset"
      ],
      "metadata": {
        "id": "ugbGJyHQ0m-O"
      }
    },
    {
      "cell_type": "code",
      "execution_count": null,
      "metadata": {
        "colab": {
          "base_uri": "https://localhost:8080/"
        },
        "id": "RJ84TXRhEYjp",
        "outputId": "00aafd83-da78-41e2-b558-4d37e2d5b3da"
      },
      "outputs": [
        {
          "output_type": "stream",
          "name": "stdout",
          "text": [
            "Mounted at /content/gdrive\n"
          ]
        }
      ],
      "source": [
        "from google.colab import drive\n",
        "drive.mount('/content/gdrive')"
      ]
    },
    {
      "cell_type": "code",
      "execution_count": null,
      "metadata": {
        "id": "dkafVPwz39UX",
        "colab": {
          "base_uri": "https://localhost:8080/"
        },
        "outputId": "4f200888-7a54-4bfe-aa81-d230d252f78e"
      },
      "outputs": [
        {
          "output_type": "stream",
          "name": "stdout",
          "text": [
            "Archive:  /content/gdrive/MyDrive/Pattern/archive.zip\n",
            "  inflating: README                  \n",
            "  inflating: s1/1.pgm                \n",
            "  inflating: s1/10.pgm               \n",
            "  inflating: s1/2.pgm                \n",
            "  inflating: s1/3.pgm                \n",
            "  inflating: s1/4.pgm                \n",
            "  inflating: s1/5.pgm                \n",
            "  inflating: s1/6.pgm                \n",
            "  inflating: s1/7.pgm                \n",
            "  inflating: s1/8.pgm                \n",
            "  inflating: s1/9.pgm                \n",
            "  inflating: s10/1.pgm               \n",
            "  inflating: s10/10.pgm              \n",
            "  inflating: s10/2.pgm               \n",
            "  inflating: s10/3.pgm               \n",
            "  inflating: s10/4.pgm               \n",
            "  inflating: s10/5.pgm               \n",
            "  inflating: s10/6.pgm               \n",
            "  inflating: s10/7.pgm               \n",
            "  inflating: s10/8.pgm               \n",
            "  inflating: s10/9.pgm               \n",
            "  inflating: s11/1.pgm               \n",
            "  inflating: s11/10.pgm              \n",
            "  inflating: s11/2.pgm               \n",
            "  inflating: s11/3.pgm               \n",
            "  inflating: s11/4.pgm               \n",
            "  inflating: s11/5.pgm               \n",
            "  inflating: s11/6.pgm               \n",
            "  inflating: s11/7.pgm               \n",
            "  inflating: s11/8.pgm               \n",
            "  inflating: s11/9.pgm               \n",
            "  inflating: s12/1.pgm               \n",
            "  inflating: s12/10.pgm              \n",
            "  inflating: s12/2.pgm               \n",
            "  inflating: s12/3.pgm               \n",
            "  inflating: s12/4.pgm               \n",
            "  inflating: s12/5.pgm               \n",
            "  inflating: s12/6.pgm               \n",
            "  inflating: s12/7.pgm               \n",
            "  inflating: s12/8.pgm               \n",
            "  inflating: s12/9.pgm               \n",
            "  inflating: s13/1.pgm               \n",
            "  inflating: s13/10.pgm              \n",
            "  inflating: s13/2.pgm               \n",
            "  inflating: s13/3.pgm               \n",
            "  inflating: s13/4.pgm               \n",
            "  inflating: s13/5.pgm               \n",
            "  inflating: s13/6.pgm               \n",
            "  inflating: s13/7.pgm               \n",
            "  inflating: s13/8.pgm               \n",
            "  inflating: s13/9.pgm               \n",
            "  inflating: s14/1.pgm               \n",
            "  inflating: s14/10.pgm              \n",
            "  inflating: s14/2.pgm               \n",
            "  inflating: s14/3.pgm               \n",
            "  inflating: s14/4.pgm               \n",
            "  inflating: s14/5.pgm               \n",
            "  inflating: s14/6.pgm               \n",
            "  inflating: s14/7.pgm               \n",
            "  inflating: s14/8.pgm               \n",
            "  inflating: s14/9.pgm               \n",
            "  inflating: s15/1.pgm               \n",
            "  inflating: s15/10.pgm              \n",
            "  inflating: s15/2.pgm               \n",
            "  inflating: s15/3.pgm               \n",
            "  inflating: s15/4.pgm               \n",
            "  inflating: s15/5.pgm               \n",
            "  inflating: s15/6.pgm               \n",
            "  inflating: s15/7.pgm               \n",
            "  inflating: s15/8.pgm               \n",
            "  inflating: s15/9.pgm               \n",
            "  inflating: s16/1.pgm               \n",
            "  inflating: s16/10.pgm              \n",
            "  inflating: s16/2.pgm               \n",
            "  inflating: s16/3.pgm               \n",
            "  inflating: s16/4.pgm               \n",
            "  inflating: s16/5.pgm               \n",
            "  inflating: s16/6.pgm               \n",
            "  inflating: s16/7.pgm               \n",
            "  inflating: s16/8.pgm               \n",
            "  inflating: s16/9.pgm               \n",
            "  inflating: s17/1.pgm               \n",
            "  inflating: s17/10.pgm              \n",
            "  inflating: s17/2.pgm               \n",
            "  inflating: s17/3.pgm               \n",
            "  inflating: s17/4.pgm               \n",
            "  inflating: s17/5.pgm               \n",
            "  inflating: s17/6.pgm               \n",
            "  inflating: s17/7.pgm               \n",
            "  inflating: s17/8.pgm               \n",
            "  inflating: s17/9.pgm               \n",
            "  inflating: s18/1.pgm               \n",
            "  inflating: s18/10.pgm              \n",
            "  inflating: s18/2.pgm               \n",
            "  inflating: s18/3.pgm               \n",
            "  inflating: s18/4.pgm               \n",
            "  inflating: s18/5.pgm               \n",
            "  inflating: s18/6.pgm               \n",
            "  inflating: s18/7.pgm               \n",
            "  inflating: s18/8.pgm               \n",
            "  inflating: s18/9.pgm               \n",
            "  inflating: s19/1.pgm               \n",
            "  inflating: s19/10.pgm              \n",
            "  inflating: s19/2.pgm               \n",
            "  inflating: s19/3.pgm               \n",
            "  inflating: s19/4.pgm               \n",
            "  inflating: s19/5.pgm               \n",
            "  inflating: s19/6.pgm               \n",
            "  inflating: s19/7.pgm               \n",
            "  inflating: s19/8.pgm               \n",
            "  inflating: s19/9.pgm               \n",
            "  inflating: s2/1.pgm                \n",
            "  inflating: s2/10.pgm               \n",
            "  inflating: s2/2.pgm                \n",
            "  inflating: s2/3.pgm                \n",
            "  inflating: s2/4.pgm                \n",
            "  inflating: s2/5.pgm                \n",
            "  inflating: s2/6.pgm                \n",
            "  inflating: s2/7.pgm                \n",
            "  inflating: s2/8.pgm                \n",
            "  inflating: s2/9.pgm                \n",
            "  inflating: s20/1.pgm               \n",
            "  inflating: s20/10.pgm              \n",
            "  inflating: s20/2.pgm               \n",
            "  inflating: s20/3.pgm               \n",
            "  inflating: s20/4.pgm               \n",
            "  inflating: s20/5.pgm               \n",
            "  inflating: s20/6.pgm               \n",
            "  inflating: s20/7.pgm               \n",
            "  inflating: s20/8.pgm               \n",
            "  inflating: s20/9.pgm               \n",
            "  inflating: s21/1.pgm               \n",
            "  inflating: s21/10.pgm              \n",
            "  inflating: s21/2.pgm               \n",
            "  inflating: s21/3.pgm               \n",
            "  inflating: s21/4.pgm               \n",
            "  inflating: s21/5.pgm               \n",
            "  inflating: s21/6.pgm               \n",
            "  inflating: s21/7.pgm               \n",
            "  inflating: s21/8.pgm               \n",
            "  inflating: s21/9.pgm               \n",
            "  inflating: s22/1.pgm               \n",
            "  inflating: s22/10.pgm              \n",
            "  inflating: s22/2.pgm               \n",
            "  inflating: s22/3.pgm               \n",
            "  inflating: s22/4.pgm               \n",
            "  inflating: s22/5.pgm               \n",
            "  inflating: s22/6.pgm               \n",
            "  inflating: s22/7.pgm               \n",
            "  inflating: s22/8.pgm               \n",
            "  inflating: s22/9.pgm               \n",
            "  inflating: s23/1.pgm               \n",
            "  inflating: s23/10.pgm              \n",
            "  inflating: s23/2.pgm               \n",
            "  inflating: s23/3.pgm               \n",
            "  inflating: s23/4.pgm               \n",
            "  inflating: s23/5.pgm               \n",
            "  inflating: s23/6.pgm               \n",
            "  inflating: s23/7.pgm               \n",
            "  inflating: s23/8.pgm               \n",
            "  inflating: s23/9.pgm               \n",
            "  inflating: s24/1.pgm               \n",
            "  inflating: s24/10.pgm              \n",
            "  inflating: s24/2.pgm               \n",
            "  inflating: s24/3.pgm               \n",
            "  inflating: s24/4.pgm               \n",
            "  inflating: s24/5.pgm               \n",
            "  inflating: s24/6.pgm               \n",
            "  inflating: s24/7.pgm               \n",
            "  inflating: s24/8.pgm               \n",
            "  inflating: s24/9.pgm               \n",
            "  inflating: s25/1.pgm               \n",
            "  inflating: s25/10.pgm              \n",
            "  inflating: s25/2.pgm               \n",
            "  inflating: s25/3.pgm               \n",
            "  inflating: s25/4.pgm               \n",
            "  inflating: s25/5.pgm               \n",
            "  inflating: s25/6.pgm               \n",
            "  inflating: s25/7.pgm               \n",
            "  inflating: s25/8.pgm               \n",
            "  inflating: s25/9.pgm               \n",
            "  inflating: s26/1.pgm               \n",
            "  inflating: s26/10.pgm              \n",
            "  inflating: s26/2.pgm               \n",
            "  inflating: s26/3.pgm               \n",
            "  inflating: s26/4.pgm               \n",
            "  inflating: s26/5.pgm               \n",
            "  inflating: s26/6.pgm               \n",
            "  inflating: s26/7.pgm               \n",
            "  inflating: s26/8.pgm               \n",
            "  inflating: s26/9.pgm               \n",
            "  inflating: s27/1.pgm               \n",
            "  inflating: s27/10.pgm              \n",
            "  inflating: s27/2.pgm               \n",
            "  inflating: s27/3.pgm               \n",
            "  inflating: s27/4.pgm               \n",
            "  inflating: s27/5.pgm               \n",
            "  inflating: s27/6.pgm               \n",
            "  inflating: s27/7.pgm               \n",
            "  inflating: s27/8.pgm               \n",
            "  inflating: s27/9.pgm               \n",
            "  inflating: s28/1.pgm               \n",
            "  inflating: s28/10.pgm              \n",
            "  inflating: s28/2.pgm               \n",
            "  inflating: s28/3.pgm               \n",
            "  inflating: s28/4.pgm               \n",
            "  inflating: s28/5.pgm               \n",
            "  inflating: s28/6.pgm               \n",
            "  inflating: s28/7.pgm               \n",
            "  inflating: s28/8.pgm               \n",
            "  inflating: s28/9.pgm               \n",
            "  inflating: s29/1.pgm               \n",
            "  inflating: s29/10.pgm              \n",
            "  inflating: s29/2.pgm               \n",
            "  inflating: s29/3.pgm               \n",
            "  inflating: s29/4.pgm               \n",
            "  inflating: s29/5.pgm               \n",
            "  inflating: s29/6.pgm               \n",
            "  inflating: s29/7.pgm               \n",
            "  inflating: s29/8.pgm               \n",
            "  inflating: s29/9.pgm               \n",
            "  inflating: s3/1.pgm                \n",
            "  inflating: s3/10.pgm               \n",
            "  inflating: s3/2.pgm                \n",
            "  inflating: s3/3.pgm                \n",
            "  inflating: s3/4.pgm                \n",
            "  inflating: s3/5.pgm                \n",
            "  inflating: s3/6.pgm                \n",
            "  inflating: s3/7.pgm                \n",
            "  inflating: s3/8.pgm                \n",
            "  inflating: s3/9.pgm                \n",
            "  inflating: s30/1.pgm               \n",
            "  inflating: s30/10.pgm              \n",
            "  inflating: s30/2.pgm               \n",
            "  inflating: s30/3.pgm               \n",
            "  inflating: s30/4.pgm               \n",
            "  inflating: s30/5.pgm               \n",
            "  inflating: s30/6.pgm               \n",
            "  inflating: s30/7.pgm               \n",
            "  inflating: s30/8.pgm               \n",
            "  inflating: s30/9.pgm               \n",
            "  inflating: s31/1.pgm               \n",
            "  inflating: s31/10.pgm              \n",
            "  inflating: s31/2.pgm               \n",
            "  inflating: s31/3.pgm               \n",
            "  inflating: s31/4.pgm               \n",
            "  inflating: s31/5.pgm               \n",
            "  inflating: s31/6.pgm               \n",
            "  inflating: s31/7.pgm               \n",
            "  inflating: s31/8.pgm               \n",
            "  inflating: s31/9.pgm               \n",
            "  inflating: s32/1.pgm               \n",
            "  inflating: s32/10.pgm              \n",
            "  inflating: s32/2.pgm               \n",
            "  inflating: s32/3.pgm               \n",
            "  inflating: s32/4.pgm               \n",
            "  inflating: s32/5.pgm               \n",
            "  inflating: s32/6.pgm               \n",
            "  inflating: s32/7.pgm               \n",
            "  inflating: s32/8.pgm               \n",
            "  inflating: s32/9.pgm               \n",
            "  inflating: s33/1.pgm               \n",
            "  inflating: s33/10.pgm              \n",
            "  inflating: s33/2.pgm               \n",
            "  inflating: s33/3.pgm               \n",
            "  inflating: s33/4.pgm               \n",
            "  inflating: s33/5.pgm               \n",
            "  inflating: s33/6.pgm               \n",
            "  inflating: s33/7.pgm               \n",
            "  inflating: s33/8.pgm               \n",
            "  inflating: s33/9.pgm               \n",
            "  inflating: s34/1.pgm               \n",
            "  inflating: s34/10.pgm              \n",
            "  inflating: s34/2.pgm               \n",
            "  inflating: s34/3.pgm               \n",
            "  inflating: s34/4.pgm               \n",
            "  inflating: s34/5.pgm               \n",
            "  inflating: s34/6.pgm               \n",
            "  inflating: s34/7.pgm               \n",
            "  inflating: s34/8.pgm               \n",
            "  inflating: s34/9.pgm               \n",
            "  inflating: s35/1.pgm               \n",
            "  inflating: s35/10.pgm              \n",
            "  inflating: s35/2.pgm               \n",
            "  inflating: s35/3.pgm               \n",
            "  inflating: s35/4.pgm               \n",
            "  inflating: s35/5.pgm               \n",
            "  inflating: s35/6.pgm               \n",
            "  inflating: s35/7.pgm               \n",
            "  inflating: s35/8.pgm               \n",
            "  inflating: s35/9.pgm               \n",
            "  inflating: s36/1.pgm               \n",
            "  inflating: s36/10.pgm              \n",
            "  inflating: s36/2.pgm               \n",
            "  inflating: s36/3.pgm               \n",
            "  inflating: s36/4.pgm               \n",
            "  inflating: s36/5.pgm               \n",
            "  inflating: s36/6.pgm               \n",
            "  inflating: s36/7.pgm               \n",
            "  inflating: s36/8.pgm               \n",
            "  inflating: s36/9.pgm               \n",
            "  inflating: s37/1.pgm               \n",
            "  inflating: s37/10.pgm              \n",
            "  inflating: s37/2.pgm               \n",
            "  inflating: s37/3.pgm               \n",
            "  inflating: s37/4.pgm               \n",
            "  inflating: s37/5.pgm               \n",
            "  inflating: s37/6.pgm               \n",
            "  inflating: s37/7.pgm               \n",
            "  inflating: s37/8.pgm               \n",
            "  inflating: s37/9.pgm               \n",
            "  inflating: s38/1.pgm               \n",
            "  inflating: s38/10.pgm              \n",
            "  inflating: s38/2.pgm               \n",
            "  inflating: s38/3.pgm               \n",
            "  inflating: s38/4.pgm               \n",
            "  inflating: s38/5.pgm               \n",
            "  inflating: s38/6.pgm               \n",
            "  inflating: s38/7.pgm               \n",
            "  inflating: s38/8.pgm               \n",
            "  inflating: s38/9.pgm               \n",
            "  inflating: s39/1.pgm               \n",
            "  inflating: s39/10.pgm              \n",
            "  inflating: s39/2.pgm               \n",
            "  inflating: s39/3.pgm               \n",
            "  inflating: s39/4.pgm               \n",
            "  inflating: s39/5.pgm               \n",
            "  inflating: s39/6.pgm               \n",
            "  inflating: s39/7.pgm               \n",
            "  inflating: s39/8.pgm               \n",
            "  inflating: s39/9.pgm               \n",
            "  inflating: s4/1.pgm                \n",
            "  inflating: s4/10.pgm               \n",
            "  inflating: s4/2.pgm                \n",
            "  inflating: s4/3.pgm                \n",
            "  inflating: s4/4.pgm                \n",
            "  inflating: s4/5.pgm                \n",
            "  inflating: s4/6.pgm                \n",
            "  inflating: s4/7.pgm                \n",
            "  inflating: s4/8.pgm                \n",
            "  inflating: s4/9.pgm                \n",
            "  inflating: s40/1.pgm               \n",
            "  inflating: s40/10.pgm              \n",
            "  inflating: s40/2.pgm               \n",
            "  inflating: s40/3.pgm               \n",
            "  inflating: s40/4.pgm               \n",
            "  inflating: s40/5.pgm               \n",
            "  inflating: s40/6.pgm               \n",
            "  inflating: s40/7.pgm               \n",
            "  inflating: s40/8.pgm               \n",
            "  inflating: s40/9.pgm               \n",
            "  inflating: s5/1.pgm                \n",
            "  inflating: s5/10.pgm               \n",
            "  inflating: s5/2.pgm                \n",
            "  inflating: s5/3.pgm                \n",
            "  inflating: s5/4.pgm                \n",
            "  inflating: s5/5.pgm                \n",
            "  inflating: s5/6.pgm                \n",
            "  inflating: s5/7.pgm                \n",
            "  inflating: s5/8.pgm                \n",
            "  inflating: s5/9.pgm                \n",
            "  inflating: s6/1.pgm                \n",
            "  inflating: s6/10.pgm               \n",
            "  inflating: s6/2.pgm                \n",
            "  inflating: s6/3.pgm                \n",
            "  inflating: s6/4.pgm                \n",
            "  inflating: s6/5.pgm                \n",
            "  inflating: s6/6.pgm                \n",
            "  inflating: s6/7.pgm                \n",
            "  inflating: s6/8.pgm                \n",
            "  inflating: s6/9.pgm                \n",
            "  inflating: s7/1.pgm                \n",
            "  inflating: s7/10.pgm               \n",
            "  inflating: s7/2.pgm                \n",
            "  inflating: s7/3.pgm                \n",
            "  inflating: s7/4.pgm                \n",
            "  inflating: s7/5.pgm                \n",
            "  inflating: s7/6.pgm                \n",
            "  inflating: s7/7.pgm                \n",
            "  inflating: s7/8.pgm                \n",
            "  inflating: s7/9.pgm                \n",
            "  inflating: s8/1.pgm                \n",
            "  inflating: s8/10.pgm               \n",
            "  inflating: s8/2.pgm                \n",
            "  inflating: s8/3.pgm                \n",
            "  inflating: s8/4.pgm                \n",
            "  inflating: s8/5.pgm                \n",
            "  inflating: s8/6.pgm                \n",
            "  inflating: s8/7.pgm                \n",
            "  inflating: s8/8.pgm                \n",
            "  inflating: s8/9.pgm                \n",
            "  inflating: s9/1.pgm                \n",
            "  inflating: s9/10.pgm               \n",
            "  inflating: s9/2.pgm                \n",
            "  inflating: s9/3.pgm                \n",
            "  inflating: s9/4.pgm                \n",
            "  inflating: s9/5.pgm                \n",
            "  inflating: s9/6.pgm                \n",
            "  inflating: s9/7.pgm                \n",
            "  inflating: s9/8.pgm                \n",
            "  inflating: s9/9.pgm                \n"
          ]
        }
      ],
      "source": [
        "!unzip /content/gdrive/MyDrive/Pattern/archive.zip"
      ]
    },
    {
      "cell_type": "markdown",
      "source": [
        " initializing Matrix D With Shape(400x10304)"
      ],
      "metadata": {
        "id": "dJHnMbCPzFNK"
      }
    },
    {
      "cell_type": "code",
      "execution_count": null,
      "metadata": {
        "id": "6AgwQ9CL-M6I"
      },
      "outputs": [],
      "source": [
        "temp=np.zeros(10304)\n",
        "for i in range(1,41):\n",
        "  for j in range(1,11):\n",
        "    # Path to the file\n",
        "    x='/content/s'+str(i)+'/'+str(j)+'.pgm'\n",
        "    img = Image.open(x)\n",
        "    # Inserting the data of the image in a matrix\n",
        "    numpydata = np.asarray(img)\n",
        "    result = numpydata.flatten()\n",
        "    temp=np.row_stack((temp,result))\n",
        "# Deleting the first zeros row\n",
        "D=temp[1:]\n",
        "i=1\n",
        "temp2=np.zeros(10)\n",
        "# For declaring the labels\n",
        "while i!=41:\n",
        "  for j in range(11):\n",
        "    temp1=np.full(10, i)\n",
        "  temp2=np.row_stack((temp2,temp1))\n",
        "  i=i+1\n",
        "temp2=temp2[1:]\n",
        "label=np.reshape(temp2.flatten(),(400,1))\n"
      ]
    },
    {
      "cell_type": "markdown",
      "source": [
        "Splitting the data even and odd"
      ],
      "metadata": {
        "id": "LOKOr_y31gre"
      }
    },
    {
      "cell_type": "code",
      "source": [
        "Dodd=D[::2]\n",
        "labelodd=label[::2]\n",
        "Deven=D[1::2]\n",
        "labeleven=label[1::2]\n"
      ],
      "metadata": {
        "id": "Ny3PSKW7E6L8"
      },
      "execution_count": null,
      "outputs": []
    },
    {
      "cell_type": "markdown",
      "source": [
        "**PCA**"
      ],
      "metadata": {
        "id": "jJb1xuK22Ue0"
      }
    },
    {
      "cell_type": "markdown",
      "source": [
        "Computing the Mean and Covariance"
      ],
      "metadata": {
        "id": "YfFAIoB52dkM"
      }
    },
    {
      "cell_type": "code",
      "execution_count": null,
      "metadata": {
        "id": "5xCOX4RxOAMF"
      },
      "outputs": [],
      "source": [
        "mean = np.mean(Dodd, axis=0)\n",
        "Centered=Dodd-mean\n",
        "centered2=Centered.T\n",
        "covariance = np.cov(centered2,bias=True)"
      ]
    },
    {
      "cell_type": "markdown",
      "source": [
        "Computing the Eigen Values and sorting both the eigen values and eigen vectors"
      ],
      "metadata": {
        "id": "hdPUBpp52_7w"
      }
    },
    {
      "cell_type": "code",
      "source": [
        "w,v=np.linalg.eigh(covariance)\n",
        "idx = w.argsort()[::-1]\n",
        "EigenValues=w[idx]\n",
        "EigenVectors=v[:,idx]"
      ],
      "metadata": {
        "id": "owiA1Tc527zR"
      },
      "execution_count": null,
      "outputs": []
    },
    {
      "cell_type": "code",
      "execution_count": null,
      "metadata": {
        "id": "vI1z8X7TWUWy"
      },
      "outputs": [],
      "source": [
        "U=EigenVectors"
      ]
    },
    {
      "cell_type": "markdown",
      "source": [
        "Pca Training and Testing"
      ],
      "metadata": {
        "id": "mmyPE4zit0W5"
      }
    },
    {
      "cell_type": "code",
      "execution_count": null,
      "metadata": {
        "id": "7Oyyh134QaMJ"
      },
      "outputs": [],
      "source": [
        "LabelTrain=labelodd\n",
        "LabelTest=labeleven\n",
        "\n",
        "def PCA(alpha,Centered,U,EigenValues,k):\n",
        "  sumEigen=np.sum(EigenValues)\n",
        "  percentage=0\n",
        "  sum=0\n",
        "  i=0;\n",
        "  # Computing the Threshold (i)\n",
        "  while(alpha>=percentage):\n",
        "    sum=sum+EigenValues[i]\n",
        "    percentage=sum/sumEigen\n",
        "    i=i+1\n",
        "  # The EigenVectors where the test and trai samples will be projected at (U)\n",
        "  projected=U[:,0:i]\n",
        "  # Projection of The Train Set\n",
        "  Xtrain=np.dot(projected.T,Centered.T).T\n",
        "  mean = np.mean(Deven, axis=0)\n",
        "  CenteredTest=Deven-mean\n",
        "  #Projection of the test set\n",
        "  Xtest=np.dot(projected.T,CenteredTest.T).T\n",
        "  X_train = Xtrain\n",
        "  X_test = Xtest\n",
        "  # Number of N neighbours\n",
        "  classifier = KNeighborsClassifier(n_neighbors=k)\n",
        "  classifier.fit(X_train, LabelTrain.ravel())\n",
        "  y_pred = classifier.predict(Xtest)\n",
        "  score = metrics.accuracy_score(LabelTest,y_pred)\n",
        "  result = metrics.confusion_matrix(LabelTest, y_pred)\n",
        "  return score\n"
      ]
    },
    {
      "cell_type": "markdown",
      "source": [
        "Testing different values of alphas and plotting the accuracy"
      ],
      "metadata": {
        "id": "eDfBVyyHwWpB"
      }
    },
    {
      "cell_type": "code",
      "source": [
        "score1=PCA(0.6,Centered,U,EigenValues,1)\n",
        "score2=PCA(0.65,Centered,U,EigenValues,1)\n",
        "score3=PCA(0.7,Centered,U,EigenValues,1)\n",
        "score4=PCA(0.75,Centered,U,EigenValues,1)\n",
        "score5=PCA(0.8,Centered,U,EigenValues,1)\n",
        "score6=PCA(0.85,Centered,U,EigenValues,1)\n",
        "score7=PCA(0.9,Centered,U,EigenValues,1)\n",
        "score8=PCA(0.95,Centered,U,EigenValues,1)\n",
        "score9=PCA(0.99,Centered,U,EigenValues,1)\n",
        "alphas=np.array([0.6,0.65,0.7,0.75,0.8,0.85,0.9,0.95,0.99])\n",
        "scores=[score1,score2,score3,score4,score5,score6,score7,score8,score9]\n",
        "plt.scatter(alphas,scores)\n",
        "plt.xlabel(\"Alpha\")\n",
        "plt.ylabel(\"Accuracy\")\n",
        "plt.ylim(0.9, 1)\n",
        "plt.show()"
      ],
      "metadata": {
        "id": "qm1idnecq3VG",
        "colab": {
          "base_uri": "https://localhost:8080/",
          "height": 283
        },
        "outputId": "a2870dbe-a2e0-431e-93e4-deb36784c071"
      },
      "execution_count": null,
      "outputs": [
        {
          "output_type": "display_data",
          "data": {
            "text/plain": [
              "<Figure size 432x288 with 1 Axes>"
            ],
            "image/png": "[encoded data removed]"
          },
          "metadata": {
            "needs_background": "light"
          }
        }
      ]
    },
    {
      "cell_type": "markdown",
      "metadata": {
        "id": "q3GEGoso-I9f"
      },
      "source": [
        "**LDA**\n"
      ]
    },
    {
      "cell_type": "markdown",
      "source": [
        "**Computing Sb And B**"
      ],
      "metadata": {
        "id": "hWR0gOS4yOG5"
      }
    },
    {
      "cell_type": "code",
      "execution_count": null,
      "metadata": {
        "id": "2j71SSzw-GrF"
      },
      "outputs": [],
      "source": [
        "#The train set (odd matrix)\n",
        "x=Dodd\n",
        "y=labelodd\n",
        "#Adding the The label to the matrix\n",
        "D=np.append(x,y,axis=1)\n",
        "temp3=np.zeros(10304)\n",
        "temp4=np.zeros(10304)\n",
        "for i in range(40):\n",
        "  # Dnew = the matrix where label = (i+1)\n",
        "  Dnew=D[D[:,10304]==(i+1)]\n",
        "  Dnew=np.delete(Dnew,10304,1)\n",
        "  Mean=np.mean(Dnew, axis=0)\n",
        "  if(i==0):\n",
        "    Z=Dnew-Mean\n",
        "    S=np.dot(Z.T,Z)\n",
        "  else:\n",
        "    Z=Dnew-Mean\n",
        "    temp5=np.dot(Z.T,Z)\n",
        "    S=S+temp5\n",
        "  temp3=np.row_stack((temp3,Mean))"
      ]
    },
    {
      "cell_type": "code",
      "source": [
        "nk=Dnew.shape[0]\n",
        "Means=temp3[1:]\n",
        "for i in range(40):\n",
        "  Mu=Means[i,:]\n",
        "  DeltaMu=np.mean(x,axis=0)\n",
        "  if(i==0):\n",
        "    Sb=nk*np.outer((Mu-DeltaMu),(Mu-DeltaMu).T)\n",
        "  else:\n",
        "    Temp=nk*np.outer((Mu-DeltaMu),(Mu-DeltaMu).T)\n",
        "    Sb=Sb+Temp\n"
      ],
      "metadata": {
        "id": "pdf3ZfoHSwgh"
      },
      "execution_count": null,
      "outputs": []
    },
    {
      "cell_type": "markdown",
      "source": [
        "Computing S inverse"
      ],
      "metadata": {
        "id": "7tFBeMYJzdDt"
      }
    },
    {
      "cell_type": "code",
      "source": [
        "Sinv=np.linalg.inv(S)"
      ],
      "metadata": {
        "id": "gY9-0RwNPQCv"
      },
      "execution_count": null,
      "outputs": []
    },
    {
      "cell_type": "markdown",
      "source": [
        "Computing eigen values of S inverse * B and sorting both eigen value matrix and eigen vectors"
      ],
      "metadata": {
        "id": "Ed1MOhUPzipI"
      }
    },
    {
      "cell_type": "code",
      "source": [
        "U=np.dot(Sinv,Sb)\n",
        "w2,v2=np.linalg.eigh(U)\n",
        "idx2 = w2.argsort()[::-1]\n",
        "EigenValues=w2[idx2]\n",
        "EigenVectors=v2[:,idx2]\n"
      ],
      "metadata": {
        "id": "9v9lGuTQLL4p"
      },
      "execution_count": null,
      "outputs": []
    },
    {
      "cell_type": "markdown",
      "source": [
        "Training and Testing LDA and reprorting the accuracy"
      ],
      "metadata": {
        "id": "eKy13A3m3fmF"
      }
    },
    {
      "cell_type": "code",
      "source": [
        "U=EigenVectors[:,0:39]\n",
        "meantrain = np.mean(Dodd, axis=0)\n",
        "meantest= np.mean(Deven,axis=0)\n",
        "Centertrain=Dodd-meantrain\n",
        "X_train=np.dot(U.T,Centertrain.T).T\n",
        "Y_train=labelodd\n",
        "Centertest=Deven-meantest\n",
        "X_test=np.dot(U.T,Centertest.T).T\n",
        "Y_test=labeleven\n",
        "classifier = KNeighborsClassifier(n_neighbors=1)\n",
        "classifier.fit(X_train,Y_train.ravel())\n",
        "y_pred = classifier.predict(X_test)\n",
        "ScoreLDA = metrics.accuracy_score(Y_test,y_pred)\n",
        "print('The accuracy = '+str(ScoreLDA))"
      ],
      "metadata": {
        "id": "VFmYc9FXZl_G",
        "colab": {
          "base_uri": "https://localhost:8080/"
        },
        "outputId": "387e3a2c-c422-4f4f-a1af-5ff69c849d7a"
      },
      "execution_count": null,
      "outputs": [
        {
          "output_type": "stream",
          "name": "stdout",
          "text": [
            "The accuracy = 0.95\n"
          ]
        }
      ]
    },
    {
      "cell_type": "markdown",
      "source": [
        "Comparing the results of the LDA AND PCA"
      ],
      "metadata": {
        "id": "R5pQx57Z5Mnk"
      }
    },
    {
      "cell_type": "code",
      "source": [
        "for x in range(len(scores)):\n",
        "  # print(x)\n",
        "  if(scores[x] >= ScoreLDA):\n",
        "    print('At Alpha +'+str(alphas[x])+' PCA had more accuracy than LDA')\n",
        "  else:\n",
        "    print('At Alpha +'+str(alphas[x])+' LDA had more accuracy than PCA')"
      ],
      "metadata": {
        "id": "F4RGnaBWdJMk",
        "colab": {
          "base_uri": "https://localhost:8080/"
        },
        "outputId": "d2c0ab48-263c-45f6-c7db-bdb121466395"
      },
      "execution_count": null,
      "outputs": [
        {
          "output_type": "stream",
          "name": "stdout",
          "text": [
            "At Alpha +0.6 LDA had more accuracy than PCA\n",
            "At Alpha +0.65 LDA had more accuracy than PCA\n",
            "At Alpha +0.7 LDA had more accuracy than PCA\n",
            "At Alpha +0.75 LDA had more accuracy than PCA\n",
            "At Alpha +0.8 PCA had more accuracy than LDA\n",
            "At Alpha +0.85 PCA had more accuracy than LDA\n",
            "At Alpha +0.9 LDA had more accuracy than PCA\n",
            "At Alpha +0.95 LDA had more accuracy than PCA\n",
            "At Alpha +0.99 LDA had more accuracy than PCA\n"
          ]
        }
      ]
    },
    {
      "cell_type": "markdown",
      "source": [
        "Plotting the accuracy with different number of Neighbours in LDA"
      ],
      "metadata": {
        "id": "Y6eUk79A6zXo"
      }
    },
    {
      "cell_type": "code",
      "source": [
        "score=[]\n",
        "for i in range(1, 8, 2) :\n",
        "    classifier = KNeighborsClassifier(i)\n",
        "    classifier.fit(X_train,Y_train.ravel())\n",
        "    y_pred = classifier.predict(X_test)\n",
        "    score.append(metrics.accuracy_score(Y_test,y_pred))\n",
        "iz=np.array([1,3,5,7])\n",
        "plt.plot(iz,score)\n",
        "plt.xlabel(\"k-nn neighbours\")\n",
        "plt.ylabel(\"Accuracy\")\n",
        "plt.ylim(0.5, 1)\n",
        "plt.show()"
      ],
      "metadata": {
        "id": "Ob5_IHXMv-2x",
        "colab": {
          "base_uri": "https://localhost:8080/",
          "height": 283
        },
        "outputId": "68106c58-7999-4511-c9bb-4fe236a2cd25"
      },
      "execution_count": null,
      "outputs": [
        {
          "output_type": "display_data",
          "data": {
            "text/plain": [
              "<Figure size 432x288 with 1 Axes>"
            ],
            "image/png": "[encoded data removed]"
          },
          "metadata": {
            "needs_background": "light"
          }
        }
      ]
    },
    {
      "cell_type": "markdown",
      "source": [
        "Plotting the accuracy with different number of Neighbours and Alphas in PCA"
      ],
      "metadata": {
        "id": "kp4sGdt068yM"
      }
    },
    {
      "cell_type": "code",
      "source": [
        "Alphaz=[0.8,0.85,0.9,0.95,0.99]\n",
        "Ks=[1,3,5,7]\n",
        "maxaccuracy=0\n",
        "for j in Alphaz:\n",
        "  Accuracy=[]\n",
        "  K=[]\n",
        "  for k in Ks:\n",
        "    scorez=PCA(j,Centered,U,EigenValues,k)\n",
        "    if(scorez>maxaccuracy):\n",
        "      maxaccuracy=scorez\n",
        "      Alphamax=j\n",
        "      KMax=k\n",
        "    Accuracy.append(scorez)\n",
        "    # print(\"At Alpha= \"+str(j)+\"And K= \"+str(k)+\"Score = \" +str(scorez))\n",
        "  plt.plot(Ks,Accuracy)\n",
        "  plt.xlabel('Number of neighbours')\n",
        "  plt.ylabel('Accuracy')\n",
        "  plt.title('Alpha = '+ str(j) )\n",
        "  plt.show()"
      ],
      "metadata": {
        "id": "aMRu2Vk_54Jh",
        "colab": {
          "base_uri": "https://localhost:8080/",
          "height": 1000
        },
        "outputId": "e7aa466f-4ccc-4022-963e-007ce8130cf1"
      },
      "execution_count": null,
      "outputs": [
        {
          "output_type": "display_data",
          "data": {
            "text/plain": [
              "<Figure size 432x288 with 1 Axes>"
            ],
            "image/png": "[encoded data removed]"
          },
          "metadata": {
            "needs_background": "light"
          }
        },
        {
          "output_type": "display_data",
          "data": {
            "text/plain": [
              "<Figure size 432x288 with 1 Axes>"
            ],
            "image/png": "[encoded data removed]"
          },
          "metadata": {
            "needs_background": "light"
          }
        },
        {
          "output_type": "display_data",
          "data": {
            "text/plain": [
              "<Figure size 432x288 with 1 Axes>"
            ],
            "image/png": "[encoded data removed]"
          },
          "metadata": {
            "needs_background": "light"
          }
        },
        {
          "output_type": "display_data",
          "data": {
            "text/plain": [
              "<Figure size 432x288 with 1 Axes>"
            ],
            "image/png": "[encoded data removed]"
          },
          "metadata": {
            "needs_background": "light"
          }
        },
        {
          "output_type": "display_data",
          "data": {
            "text/plain": [
              "<Figure size 432x288 with 1 Axes>"
            ],
            "image/png": "[encoded data removed]"
          },
          "metadata": {
            "needs_background": "light"
          }
        }
      ]
    },
    {
      "cell_type": "markdown",
      "source": [
        "PCA TUNING"
      ],
      "metadata": {
        "id": "FnCxAqcl_J_F"
      }
    },
    {
      "cell_type": "code",
      "source": [
        "print('Reporting Max accuracy of '+str(maxaccuracy)  +' at Alpha= '+ str(Alphamax)+ ' and K = '+ str(KMax))"
      ],
      "metadata": {
        "id": "5TYdUtUH-HF_",
        "colab": {
          "base_uri": "https://localhost:8080/"
        },
        "outputId": "615bf1d5-c92d-4014-fef8-cc278d408024"
      },
      "execution_count": null,
      "outputs": [
        {
          "output_type": "stream",
          "name": "stdout",
          "text": [
            "Reporting Max accuracy of 0.95 at Alpha= 0.8 and K = 1\n"
          ]
        }
      ]
    },
    {
      "cell_type": "markdown",
      "source": [
        "LDA TUNING"
      ],
      "metadata": {
        "id": "f8N7WFU-gvwB"
      }
    },
    {
      "cell_type": "code",
      "source": [
        "meantrain = np.mean(Dodd, axis=0)\n",
        "meantest= np.mean(Deven,axis=0)\n",
        "Centertrain=Dodd-meantrain\n",
        "Y_train=labelodd\n",
        "Centertest=Deven-meantest\n",
        "Y_test=labeleven\n",
        "Ks=[1,3,5,7]\n",
        "max=0\n",
        "for i in range (1,10304):\n",
        "  U=EigenVectors[:,0:i]\n",
        "  X_train=np.dot(U.T,Centertrain.T).T\n",
        "  X_test=np.dot(U.T,Centertest.T).T\n",
        "  for k in Ks:\n",
        "    classifier = KNeighborsClassifier(n_neighbors=1)\n",
        "    classifier.fit(X_train,Y_train.ravel())\n",
        "    y_pred = classifier.predict(X_test)\n",
        "    ScoreLDA = metrics.accuracy_score(Y_test,y_pred)\n",
        "    if(ScoreLDA>max):\n",
        "      max=ScoreLDA\n",
        "      KMax=k\n",
        "      NumberEigen=i\n",
        "\n",
        "\n"
      ],
      "metadata": {
        "id": "xY-RYoiKgvXk"
      },
      "execution_count": null,
      "outputs": []
    },
    {
      "cell_type": "code",
      "source": [
        "print('Reporting Max accuracy of '+str(max)  +' with number of eigenvectors= '+ str(NumberEigen)+ ' and K = '+ str(KMax))"
      ],
      "metadata": {
        "colab": {
          "base_uri": "https://localhost:8080/"
        },
        "id": "zQGmxYr4k5WC",
        "outputId": "12c33815-5085-4f4d-8abc-ec1f1dd65e5f"
      },
      "execution_count": null,
      "outputs": [
        {
          "output_type": "stream",
          "name": "stdout",
          "text": [
            "Reporting Max accuracy of 0.96 with number of eigenvectors= 224 and K = 1\n"
          ]
        }
      ]
    },
    {
      "cell_type": "markdown",
      "source": [
        "Faces Vs non-faces"
      ],
      "metadata": {
        "id": "7-tyh8Zvm-sa"
      }
    },
    {
      "cell_type": "markdown",
      "source": [
        "importing the non-face images (cars)"
      ],
      "metadata": {
        "id": "H_kyvRFVc8GH"
      }
    },
    {
      "cell_type": "code",
      "source": [
        "!unzip /content/gdrive/MyDrive/Cars.zip"
      ],
      "metadata": {
        "id": "UmrT_1RNm9-h",
        "colab": {
          "base_uri": "https://localhost:8080/"
        },
        "outputId": "e1dc1533-0763-4d01-ab47-ed61ee6b3c8f"
      },
      "execution_count": null,
      "outputs": [
        {
          "output_type": "stream",
          "name": "stdout",
          "text": [
            "Archive:  /content/gdrive/MyDrive/Cars.zip\n",
            "replace 448.jpg? [y]es, [n]o, [A]ll, [N]one, [r]ename: N\n"
          ]
        }
      ]
    },
    {
      "cell_type": "markdown",
      "source": [
        "Resizing and converting the images to a readable dataset"
      ],
      "metadata": {
        "id": "GaJ9-epedA-g"
      }
    },
    {
      "cell_type": "code",
      "source": [
        "temp7=np.zeros(10304)\n",
        "for i in range(4,404):\n",
        "  # Path to the file\n",
        "  x='/content/'+str(i)+'.jpg'\n",
        "  img = Image.open(x)\n",
        "  img=img.resize((92,112))\n",
        "  img=img.convert('L')\n",
        "  # Inserting the data of the image in a matrix\n",
        "  numpydata2 = np.asarray(img)\n",
        "  result = numpydata2.flatten()\n",
        "  temp7=np.row_stack((temp7,result))\n",
        "# Deleting the first zeros row\n",
        "NF=temp7[1:]"
      ],
      "metadata": {
        "id": "wdnPjWb_oR2q"
      },
      "execution_count": null,
      "outputs": []
    },
    {
      "cell_type": "markdown",
      "source": [
        "splitting the dataset into training and testing sets"
      ],
      "metadata": {
        "id": "CzEJQN7adHfc"
      }
    },
    {
      "cell_type": "code",
      "source": [
        "NFodd=NF[::2]\n",
        "NFeven=NF[1::2]\n",
        "Fodd=Dodd\n",
        "Feven=Deven"
      ],
      "metadata": {
        "id": "tpFSX7p9udlT"
      },
      "execution_count": null,
      "outputs": []
    },
    {
      "cell_type": "markdown",
      "source": [
        "computing the B and S"
      ],
      "metadata": {
        "id": "MzwK2FZddPH-"
      }
    },
    {
      "cell_type": "code",
      "source": [
        "FaceMean=np.mean(Fodd, axis=0)\n",
        "NoFaceMean=np.mean(NFodd, axis=0)\n",
        "CenteredF=Fodd-FaceMean\n",
        "CenteredNF=NFodd-NoFaceMean\n",
        "Diff=FaceMean-NoFaceMean\n",
        "B=np.outer(Diff,Diff.T)\n",
        "Z1=np.dot(CenteredF.T,CenteredF)\n",
        "Z2=np.dot(CenteredNF.T,CenteredNF)\n",
        "S2=Z1+Z2"
      ],
      "metadata": {
        "id": "sz2LAOOpu58r"
      },
      "execution_count": null,
      "outputs": []
    },
    {
      "cell_type": "code",
      "source": [
        "Sinv=np.linalg.inv(S2)"
      ],
      "metadata": {
        "id": "rd0gfEDByYcU"
      },
      "execution_count": null,
      "outputs": []
    },
    {
      "cell_type": "markdown",
      "source": [
        "Computing the Eigen values and eigen vectors and sosrting them descendingly"
      ],
      "metadata": {
        "id": "uC5ONz0Zdaqj"
      }
    },
    {
      "cell_type": "code",
      "source": [
        "U=np.dot(Sinv,B)\n",
        "w3,v3=np.linalg.eigh(U)\n",
        "idx3 = w3.argsort()[::-1]\n",
        "EigenValues=w3[idx3]\n",
        "EigenVectors=v3[:,idx3]"
      ],
      "metadata": {
        "id": "kjUmW_yklPS3"
      },
      "execution_count": null,
      "outputs": []
    },
    {
      "cell_type": "markdown",
      "source": [
        "row_stacking the training set together with choosing only 1 eigen vector\n",
        "\n"
      ],
      "metadata": {
        "id": "qL64PZWadqb9"
      }
    },
    {
      "cell_type": "code",
      "source": [
        "U=EigenVectors[:,0:1]\n",
        "x_train=np.row_stack((NFodd,Fodd))\n",
        "x_test=np.row_stack((NFeven,Feven))\n",
        "zeros=np.zeros(200,)\n",
        "ones=np.ones(200,)\n",
        "y_train=np.append(zeros,ones,axis=0)\n",
        "x_train=np.dot(U.T,x_train.T).T\n",
        "x_test=np.dot(U.T,x_test.T).T\n",
        "y_test=y_train"
      ],
      "metadata": {
        "id": "BVotHrD5BgXW"
      },
      "execution_count": null,
      "outputs": []
    },
    {
      "cell_type": "markdown",
      "source": [
        "Testing the faces-nonfaces accuracy"
      ],
      "metadata": {
        "id": "Qp0Ifc7QeB9l"
      }
    },
    {
      "cell_type": "code",
      "source": [
        "classifier = KNeighborsClassifier(n_neighbors=1)\n",
        "classifier.fit(x_train,y_train)\n",
        "y_pred = classifier.predict(x_test)\n",
        "ScoreLDA = metrics.accuracy_score(y_test,y_pred)\n",
        "print('The accuracy = '+str(ScoreLDA))"
      ],
      "metadata": {
        "colab": {
          "base_uri": "https://localhost:8080/"
        },
        "id": "7i13C4sXJTTx",
        "outputId": "97a898fd-2cde-4360-ef98-b13157c8ee8b"
      },
      "execution_count": null,
      "outputs": [
        {
          "output_type": "stream",
          "name": "stdout",
          "text": [
            "The accuracy = 0.7975\n"
          ]
        }
      ]
    },
    {
      "cell_type": "markdown",
      "source": [
        "Confusion matrix"
      ],
      "metadata": {
        "id": "FCuiYkg2eMRP"
      }
    },
    {
      "cell_type": "code",
      "source": [
        "cm= metrics.confusion_matrix(y_test, y_pred)\n",
        "f, ax =plt.subplots(figsize = (5,5))\n",
        "\n",
        "sns.heatmap(cm,annot = True, linewidths= 0.5, linecolor=\"red\", fmt=\".0f\", ax=ax)\n",
        "plt.xlabel(\"y_pred\")\n",
        "plt.ylabel(\"y_true\")\n",
        "plt.show()"
      ],
      "metadata": {
        "colab": {
          "base_uri": "https://localhost:8080/"
        },
        "id": "aPxIaNVYJUu0",
        "outputId": "0e6f3573-5720-45ec-db21-e6b71fd945a2"
      },
      "execution_count": null,
      "outputs": [
        {
          "output_type": "display_data",
          "data": {
            "text/plain": [
              "<Figure size 360x360 with 2 Axes>"
            ],
            "image/png": "[encoded data removed]"
          },
          "metadata": {
            "needs_background": "light"
          }
        }
      ]
    },
    {
      "cell_type": "markdown",
      "source": [
        "Fixing the number of faces (200-200) while changing number of non-faces"
      ],
      "metadata": {
        "id": "YHWjoMRKVdHo"
      }
    },
    {
      "cell_type": "code",
      "source": [
        "def NFF(i):\n",
        "  # Splitting the non-faces training set\n",
        "  NFtrain=NF[:i]\n",
        "  NFtest=NF[i:]\n",
        "  # computing the mean of faces set\n",
        "  FaceMean=np.mean(Fodd, axis=0)\n",
        "  # computing the mean of non-faces set\n",
        "  NoFaceMean=np.mean(NFtrain, axis=0)\n",
        "  # computing centered values for faces and non faces set\n",
        "  CenteredF=Fodd-FaceMean\n",
        "  CenteredNF=NFtrain-NoFaceMean\n",
        "  Diff=FaceMean-NoFaceMean\n",
        "  # computing B and And S\n",
        "  B=np.outer(Diff,Diff.T)\n",
        "  Z1=np.dot(CenteredF.T,CenteredF)\n",
        "  Z2=np.dot(CenteredNF.T,CenteredNF)\n",
        "  S2=Z1+Z2\n",
        "  Sinv=np.linalg.inv(S2)\n",
        "  # Sinv @ B\n",
        "  U=np.dot(Sinv,B)\n",
        "  # computing eigen values,vectors and sorting them\n",
        "  w3,v3=np.linalg.eigh(U)\n",
        "  idx3 = w3.argsort()[::-1]\n",
        "  EigenValues=w3[idx3]\n",
        "  EigenVectors=v3[:,idx3]\n",
        "  U=EigenVectors[:,0:1]\n",
        "  x_train=np.row_stack((NFtrain,Fodd))\n",
        "  x_test=np.row_stack((NFtest,Feven))\n",
        "  zeros=np.zeros(i,)\n",
        "  ones=np.ones(200,)\n",
        "  y_train=np.append(zeros,ones,axis=0)\n",
        "  x_train=np.dot(U.T,x_train.T).T\n",
        "  x_test=np.dot(U.T,x_test.T).T\n",
        "  zeros2=np.zeros(400-i,)\n",
        "  y_test=np.append(zeros2,ones,axis=0)\n",
        "  # Testing the set and computing the accuracy\n",
        "  classifier = KNeighborsClassifier(n_neighbors=1)\n",
        "  classifier.fit(x_train,y_train)\n",
        "  y_pred = classifier.predict(x_test)\n",
        "  ScoreLDA = metrics.accuracy_score(y_test,y_pred)\n",
        "  return ScoreLDA"
      ],
      "metadata": {
        "id": "gkO3Ph3SRTL4"
      },
      "execution_count": null,
      "outputs": []
    },
    {
      "cell_type": "markdown",
      "source": [
        "training on different sets of non-face images (50,100,150,200,250,300)"
      ],
      "metadata": {
        "id": "_QzNBoNWWnQB"
      }
    },
    {
      "cell_type": "code",
      "source": [
        "score1=NFF(50)\n",
        "score2=NFF(100)\n",
        "score3=NFF(150)\n",
        "score4=NFF(200)\n",
        "score5=NFF(250)\n",
        "score6=NFF(300)\n",
        "scorez=[score1,score2,score3,score4,score5,score6]"
      ],
      "metadata": {
        "id": "NZV7666RUjLP"
      },
      "execution_count": null,
      "outputs": []
    },
    {
      "cell_type": "markdown",
      "source": [
        "plotting the relation between number of non-face images and accuracy"
      ],
      "metadata": {
        "id": "BlyQCRuDWxtl"
      }
    },
    {
      "cell_type": "code",
      "source": [
        "samples=[50,100,150,200,250,300]\n",
        "plt.plot(samples,scorez)\n",
        "plt.xlabel(\"number of non-face images in the training set\")\n",
        "plt.ylabel(\"Accuracy\")\n",
        "plt.ylim(0.8, 0.9)\n",
        "plt.show()"
      ],
      "metadata": {
        "colab": {
          "base_uri": "https://localhost:8080/",
          "height": 283
        },
        "id": "TulCvPp2JTeZ",
        "outputId": "1a8b391a-85e0-4546-9041-50b6ea7807d8"
      },
      "execution_count": null,
      "outputs": [
        {
          "output_type": "display_data",
          "data": {
            "text/plain": [
              "<Figure size 432x288 with 1 Axes>"
            ],
            "image/png": "[encoded data removed]"
          },
          "metadata": {
            "needs_background": "light"
          }
        }
      ]
    },
    {
      "cell_type": "markdown",
      "source": [
        "**Bonus**"
      ],
      "metadata": {
        "id": "QCnAnLKHiksv"
      }
    },
    {
      "cell_type": "code",
      "source": [
        "# Splitting the data to 70% training & 30% testing\n",
        "\n",
        "ntrain_set = D[:7]\n",
        "ntrain_label = labels[:7]\n",
        "ntest_set = D[7:10]\n",
        "ntest_label = labels[7:10]\n",
        "i = 17\n",
        "j = 10\n",
        "\n",
        "# Computing the first 7 of each class to training data and the last 3 for testing\n",
        "\n",
        "for x in range(1,40):\n",
        "    ntrain_set = np.vstack((ntrain_set,data[i-7:i]))\n",
        "    ntrain_label = np.vstack((ntrain_label,labels[i-7:i]))\n",
        "    ntest_set = np.vstack((ntest_set,data[j-3:j]))\n",
        "    ntest_label = np.vstack((ntest_label,labels[j-3:j]))\n",
        "    i += 10\n",
        "    j += 10\n",
        "# Extracting eigenvectors and eigen values for PCA\n",
        "\n",
        "centerd  =  ntrain_set - ntrain_set.mean(axis = 0)\n",
        "np.cov(cdata_train.T,bias=True)\n",
        "val , vec = np.linalg.eigh(np.cov(centerd.T,bias=True))\n",
        "idx = val.argsort()[::-1]\n",
        "EigenValues = val[idx]\n",
        "EigenVectors = vec[:,idx]"
      ],
      "metadata": {
        "id": "CYYf-ggkjKoY"
      },
      "execution_count": null,
      "outputs": []
    },
    {
      "cell_type": "code",
      "source": [
        "U = EigenVectors\n",
        "ntest_label = ntest_label.reshape(120)\n",
        "Alpha = np.array([0.8,0.85,0.9,0.95])\n",
        "centerd2 = ntest_set - ntest_set.mean(axis = 0)\n",
        "values = []\n",
        "total = np.sum(EigenValues)\n",
        "nscore = []\n",
        "\n",
        "# Finding the number of dominnant eigenvectors corsponding to Alpha's values\n",
        "\n",
        "for j in Alpha:\n",
        "    sum = 0\n",
        "    for i in range(len(EigenValues)):\n",
        "        sum += EigenValues[i]\n",
        "        if sum/total > j:\n",
        "            values.append(i+1)\n",
        "            break\n",
        "\n",
        "# Compute the accuracy score for each selected number of dominnant eigenvectors\n",
        "\n",
        "for i in range(len(values)):\n",
        "    training_data = np.dot(U[:,:values[i]].T,centerd.T).T\n",
        "    test_data = np.dot(U[:,:values[i]].T,centerd2.T).T\n",
        "    classifier = KNeighborsClassifier(n_neighbors=1)\n",
        "    classifier.fit(training_data, ntrain_label.ravel())\n",
        "    y_pred = classifier.predict(test_data)\n",
        "    nscore.append(metrics.accuracy_score(ntest_label,y_pred))\n",
        "nscore"
      ],
      "metadata": {
        "id": "lyo2IidXjRiR"
      },
      "execution_count": null,
      "outputs": []
    },
    {
      "cell_type": "code",
      "source": [
        "plt.scatter(Alpha,nscore)\n",
        "plt.xlabel(\"Alpha\")\n",
        "plt.ylabel(\"Accuracy\")\n",
        "plt.ylim(0.9, 1)\n",
        "plt.show()"
      ],
      "metadata": {
        "id": "4dyRFmEZjTxk"
      },
      "execution_count": null,
      "outputs": []
    },
    {
      "cell_type": "code",
      "source": [
        "Mu = []\n",
        "i = 7\n",
        "\n",
        "# Getting the mean of each class on its own\n",
        "\n",
        "for j in range(40):\n",
        "        m = ntrain_set[i-7:i].mean(axis=0)\n",
        "        Mu.append(m)\n",
        "        i=i+7\n",
        "Mu = np.array(Mu)\n",
        "M = ntrain_set.mean(axis=0)\n",
        "sb = 5*(np.outer((Mu[0]-M),(Mu[0]-M).T))\n",
        "\n",
        "# Computing the Sb variable from the subtraction of total mean from each class mean\n",
        "\n",
        "for i in range(40):\n",
        "    if i == 0:\n",
        "        continue\n",
        "    else:\n",
        "        temp = 5*(np.outer((Mu[i]-M),(Mu[i]-M).T))\n",
        "        sb = sb + temp"
      ],
      "metadata": {
        "id": "N3ln5Q4PjWqu"
      },
      "execution_count": null,
      "outputs": []
    },
    {
      "cell_type": "code",
      "source": [
        "s = np.zeros((10304,10304))\n",
        "temp = np.dot((ntrain_set[0:7]-M).T, (ntrain_set[0:7]-M) )\n",
        "s = s + temp\n",
        "i = 14\n",
        "\n",
        "# Extracting the s value\n",
        "\n",
        "if i in range(1,40):\n",
        "    temp = np.dot((ntrain_set[i-7:i]-M).T, (ntrain_set[i-7:i]-M) )\n",
        "    s = s + temp\n",
        "    i += 7"
      ],
      "metadata": {
        "id": "oAoeP6eDjavV"
      },
      "execution_count": null,
      "outputs": []
    },
    {
      "cell_type": "code",
      "source": [
        "Sinv=np.linalg.inv(s)"
      ],
      "metadata": {
        "id": "acSYFQ99jd24"
      },
      "execution_count": null,
      "outputs": []
    },
    {
      "cell_type": "code",
      "source": [
        "U=np.dot(Sinv,sb)\n",
        "w2,v2=np.linalg.eigh(U)\n",
        "idx2 = w2.argsort()[::-1]\n",
        "EigenValues=w2[idx2]\n",
        "EigenVectors=v2[:,idx2]\n",
        "EigenVectors"
      ],
      "metadata": {
        "id": "FZdyrLiAjfxS"
      },
      "execution_count": null,
      "outputs": []
    },
    {
      "cell_type": "code",
      "source": [
        "Projection=EigenVectors[:,0:39]\n",
        "ntrain_label = ntrain_label.reshape(280)\n",
        "meantrain = np.mean(ntrain_set, axis=0)\n",
        "meantest= np.mean(ntest_set,axis=0)\n",
        "Centertrain = ntrain_set - meantrain\n",
        "X_train=np.dot(Projection.T,Centertrain.T).T\n",
        "Y_train= ntrain_label\n",
        "Centertest = ntest_set-meantest\n",
        "X_test=np.dot(Projection.T,Centertest.T).T\n",
        "Y_test= ntest_label\n",
        "classifier = KNeighborsClassifier(n_neighbors=1)\n",
        "classifier.fit(X_train,Y_train)\n",
        "y_pred = classifier.predict(X_test)\n",
        "nScoreLDA = metrics.accuracy_score(Y_test,y_pred)\n",
        "print(nScoreLDA)"
      ],
      "metadata": {
        "id": "lpnJLYxOjjTn"
      },
      "execution_count": null,
      "outputs": []
    },
    {
      "cell_type": "code",
      "source": [
        "plt.scatter(nScoreLDA,ScoreLDA)\n",
        "plt.xlabel(\"LDA accuracy in 70:30 split\")\n",
        "plt.ylabel(\"LDA accuracy in 50:50 split\")\n",
        "plt.ylim(0.9, 1)\n",
        "plt.xlim(0.9, 1)\n",
        "plt.show()"
      ],
      "metadata": {
        "id": "IR1aeFLWjmz3"
      },
      "execution_count": null,
      "outputs": []
    }
  ],
  "metadata": {
    "colab": {
      "provenance": []
    },
    "gpuClass": "standard",
    "kernelspec": {
      "display_name": "Python 3",
      "name": "python3"
    },
    "language_info": {
      "name": "python"
    },
    "accelerator": "GPU"
  },
  "nbformat": 4,
  "nbformat_minor": 0
}